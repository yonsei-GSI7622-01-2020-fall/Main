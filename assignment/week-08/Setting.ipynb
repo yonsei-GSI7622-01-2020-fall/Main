{
 "cells": [
  {
   "cell_type": "markdown",
   "metadata": {},
   "source": [
    "## 1. Elasticsearch에 인덱스 세팅"
   ]
  },
  {
   "cell_type": "code",
   "execution_count": null,
   "metadata": {},
   "outputs": [],
   "source": [
    "from elasticsearch import Elasticsearch, helpers\n",
    "import pprint\n",
    "user = \"\"\n",
    "password = \"\"\n",
    "host = \"\"\n",
    "\n",
    "try:\n",
    "    es.transport.close()\n",
    "except:\n",
    "    pass\n",
    "es = Elasticsearch([host],http_auth=(user,password),scheme=\"https\",port=443)\n",
    "\n",
    "\n"
   ]
  },
  {
   "cell_type": "code",
   "execution_count": null,
   "metadata": {},
   "outputs": [],
   "source": [
    "INDEX_NAME = \"covid_index\"\n",
    "body= {\n",
    "  \"settings\" : {\n",
    "    \"index\":{\n",
    "      \"analysis\":{\n",
    "        \"analyzer\":{\n",
    "          \"korean\":{\n",
    "            \"type\":\"custom\",\n",
    "            \"tokenizer\":\"seunjeon_tokenizer\"\n",
    "          }\n",
    "        }\n",
    "      }\n",
    "    }\n",
    "  },\n",
    "  \"mappings\": {\n",
    "    \"properties\" : {\n",
    "        \"addr\" : {\n",
    "            \"type\" : \"text\",\n",
    "            \"fielddata\" : True\n",
    "\n",
    "        },\n",
    "        \"name\" : {\n",
    "            \"type\" : \"text\",\n",
    "            \"fielddata\" : True,\n",
    "            \"analyzer\": \"korean\"\n",
    "        },\n",
    "        \"city\" : {\n",
    "            \"type\" : \"text\",\n",
    "            \"fielddata\" : True\n",
    "        },\n",
    "        \"date\" : {\n",
    "            \"type\" : \"date\",\n",
    "            \"format\" : \"yyyy-MM-dd\"\n",
    "        },\n",
    "        \"location\" : {\n",
    "            \"type\" : \"geo_point\"\n",
    "        }\n",
    "    }\n",
    "  }\n",
    "}\n",
    "if es.indices.exists(INDEX_NAME):\n",
    "    es.indices.delete(index=INDEX_NAME)\n",
    "es.indices.create(index=INDEX_NAME,body=body)"
   ]
  },
  {
   "cell_type": "code",
   "execution_count": null,
   "metadata": {},
   "outputs": [],
   "source": [
    "# 잘 생성이 되었는지 확인\n",
    "result = es.indices.get(index=INDEX_NAME)\n",
    "pprint.pprint(result)"
   ]
  },
  {
   "cell_type": "markdown",
   "metadata": {},
   "source": [
    "## 2. 가상의 로그데이터 생성"
   ]
  },
  {
   "cell_type": "code",
   "execution_count": null,
   "metadata": {},
   "outputs": [],
   "source": [
    "import csv\n",
    "import requests\n",
    "import json\n",
    "import time\n",
    "\n",
    "url = \"\"\n",
    "with open('covid_log.csv', newline='') as csvfile:\n",
    "    fieldnames=[\"index\", \"city\",\"name\",\"addr\",\"lat\",\"lng\",\"date\"]\n",
    "    reader = csv.DictReader(csvfile, fieldnames=fieldnames)\n",
    "    next(reader)\n",
    "    for row in reader:\n",
    "\n",
    "       \n",
    "        print(dict(row))\n",
    "\n",
    "        res = requests.put(url,data=json.dumps(dict(row)))\n",
    "\n",
    "        time.sleep(1)\n"
   ]
  },
  {
   "cell_type": "code",
   "execution_count": null,
   "metadata": {},
   "outputs": [],
   "source": []
  }
 ],
 "metadata": {
  "kernelspec": {
   "display_name": "Python 3",
   "language": "python",
   "name": "python3"
  },
  "language_info": {
   "codemirror_mode": {
    "name": "ipython",
    "version": 3
   },
   "file_extension": ".py",
   "mimetype": "text/x-python",
   "name": "python",
   "nbconvert_exporter": "python",
   "pygments_lexer": "ipython3",
   "version": "3.7.6"
  }
 },
 "nbformat": 4,
 "nbformat_minor": 4
}
