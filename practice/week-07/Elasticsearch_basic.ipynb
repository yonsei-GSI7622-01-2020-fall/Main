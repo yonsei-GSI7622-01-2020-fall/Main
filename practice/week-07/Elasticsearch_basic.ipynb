{
 "cells": [
  {
   "cell_type": "markdown",
   "metadata": {},
   "source": [
    "# 비정형 빅데이터 응용과 실습 - Week 07\n",
    "엘라스틱서치의 기본 원리와 사용법에 대해서 배웁니다.\n",
    "____"
   ]
  },
  {
   "cell_type": "markdown",
   "metadata": {},
   "source": [
    "## 1. Elasticsearch의 Python 라이브러리 설치"
   ]
  },
  {
   "cell_type": "code",
   "execution_count": null,
   "metadata": {},
   "outputs": [],
   "source": [
    "import sys\n",
    "!{sys.executable} -m pip install elasticsearch\n"
   ]
  },
  {
   "cell_type": "code",
   "execution_count": null,
   "metadata": {},
   "outputs": [],
   "source": [
    "from elasticsearch import Elasticsearch"
   ]
  },
  {
   "cell_type": "markdown",
   "metadata": {},
   "source": [
    "## 2. Index 세팅\n",
    "- 한글 데이터를 다루기 때문에, 은전한닢(Mecab) 형태소 분석기를 탑재합니다."
   ]
  },
  {
   "cell_type": "code",
   "execution_count": null,
   "metadata": {},
   "outputs": [],
   "source": [
    "import pprint  \n",
    "INDEX_NAME = \"toy_index\"\n",
    "\n",
    "\n",
    "INDEX_SETTINGS = {\n",
    "  \"settings\" : {\n",
    "    \"index\":{\n",
    "      \"analysis\":{\n",
    "        \"analyzer\":{\n",
    "          \"korean\":{\n",
    "            \"type\":\"custom\",\n",
    "            \"tokenizer\":\"seunjeon_tokenizer\"\n",
    "          }\n",
    "        }\n",
    "      }\n",
    "    }\n",
    "  },\n",
    "  \"mappings\": {\n",
    "\n",
    "      \"properties\" : {\n",
    "        \"content\" : {\n",
    "          \"type\" : \"text\",\n",
    "          \"analyzer\": \"korean\"\n",
    "        },\n",
    "        \"title\" : {\n",
    "          \"type\" : \"text\",\n",
    "          \"analyzer\": \"korean\"\n",
    "        }\n",
    "      }\n",
    "\n",
    "  }\n",
    "}\n"
   ]
  },
  {
   "cell_type": "markdown",
   "metadata": {},
   "source": [
    "## 3. 문서 준비"
   ]
  },
  {
   "cell_type": "code",
   "execution_count": null,
   "metadata": {},
   "outputs": [],
   "source": [
    "DOCS = {\n",
    "    1: {\"title\": \"My Love\",\n",
    "        \"content\": \"사랑해 그 말은 무엇보다 아픈 말 숨죽여서 하는 말 이젠 하기 힘든 말\"\n",
    "        },\n",
    "    2: {\"title\": \"듣고있나요\",\n",
    "        \"content\": \"끝내 우린 스쳐가나요 기억넘어 서로를 지워야하나요 내게 사랑이 준 깊은 상처는 어떻게 견디며 살아야하는지 매일 아픈 그리움속에 가슴 텅 빈채 살아도 그대를 사랑했던일 그것만은 죽어도 나 후회하지않아요\"\n",
    "        },\n",
    "    3: {\"title\": \"인연\",\n",
    "        \"content\": \"눈을 떠 바라보아요 그댄 정말 가셨나요 단 한번 보내준 그대 눈빛은 날 사랑했나요 또 다른 사랑이 와도 이젠 쉽게 허락되진 않아 견디기 힘들어 운명같은 우연을\"\n",
    "        },\n",
    "    4: {\"title\": \"말리 꽃\",\n",
    "        \"content\": [\"얼마나 더 견뎌야 하는지 짙은 어둠을 헤메고 있어\",\"내가 바란 꿈이라는 것은 없는걸까\", \"더 이상은 견딜수 없는 것\"]\n",
    "        },\n",
    "    5: {\"title\": \"그런 사람 또 없습니다\",\n",
    "        \"content\": \"천번 번이고 다시 태어난대도 그런 사람 또 없을테죠 슬픈 내삶을 따뜻하게 해준 잠 고마운 사람입니다\"\n",
    "        }\n",
    "}  "
   ]
  },
  {
   "cell_type": "markdown",
   "metadata": {},
   "source": [
    "## 4. Elastichsearch 접속"
   ]
  },
  {
   "cell_type": "code",
   "execution_count": null,
   "metadata": {},
   "outputs": [],
   "source": [
    "user = \"\"\n",
    "password = \"\"\n",
    "host = \"\"\n",
    "\n",
    "try:\n",
    "    es.transport.close()\n",
    "except:\n",
    "    pass\n",
    "es = Elasticsearch([host],http_auth=(user,password),scheme=\"https\",port=443)\n",
    "\n"
   ]
  },
  {
   "cell_type": "code",
   "execution_count": null,
   "metadata": {},
   "outputs": [],
   "source": [
    "es.info()"
   ]
  },
  {
   "cell_type": "markdown",
   "metadata": {},
   "source": [
    "## 5. 인덱스 생성"
   ]
  },
  {
   "cell_type": "code",
   "execution_count": null,
   "metadata": {
    "scrolled": true
   },
   "outputs": [],
   "source": [
    "if es.indices.exists(INDEX_NAME):\n",
    "    es.indices.delete(index=INDEX_NAME)\n",
    "es.indices.create(index=INDEX_NAME, body=INDEX_SETTINGS)"
   ]
  },
  {
   "cell_type": "markdown",
   "metadata": {},
   "source": [
    "## 6. 문서삽입"
   ]
  },
  {
   "cell_type": "code",
   "execution_count": null,
   "metadata": {},
   "outputs": [],
   "source": [
    "import time\n",
    "for doc_id, doc in DOCS.items():\n",
    "    es.index(index=INDEX_NAME,  id=doc_id, body=doc)\n",
    "    time.sleep(1)\n"
   ]
  },
  {
   "cell_type": "markdown",
   "metadata": {},
   "source": [
    "## 7. 삽입된 문서 확인"
   ]
  },
  {
   "cell_type": "code",
   "execution_count": null,
   "metadata": {},
   "outputs": [],
   "source": [
    "doc = es.get(index=INDEX_NAME, id=1)\n",
    "pprint.pprint(doc)"
   ]
  },
  {
   "cell_type": "markdown",
   "metadata": {},
   "source": [
    "## 8. Term vector 확인"
   ]
  },
  {
   "cell_type": "code",
   "execution_count": null,
   "metadata": {},
   "outputs": [],
   "source": [
    "tv = es.termvectors(index=INDEX_NAME, id=2,body={\"fields\" : [\"content\",\"title\"]})"
   ]
  },
  {
   "cell_type": "code",
   "execution_count": null,
   "metadata": {
    "scrolled": false
   },
   "outputs": [],
   "source": [
    "pprint.pprint(tv)"
   ]
  },
  {
   "cell_type": "markdown",
   "metadata": {},
   "source": [
    "## 7. 검색"
   ]
  },
  {
   "cell_type": "code",
   "execution_count": null,
   "metadata": {},
   "outputs": [],
   "source": [
    "query = \"사랑하지만 힘들어 죽겠네\"\n",
    "res = es.indices.analyze(index=INDEX_NAME,\n",
    "                                 body={\n",
    "                                       \"tokenizer\" : \"seunjeon_tokenizer\",\n",
    "                                        \"text\" : query\n",
    "                                 }\n",
    "                        )\n",
    "pprint.pprint(res)"
   ]
  },
  {
   "cell_type": "code",
   "execution_count": null,
   "metadata": {},
   "outputs": [],
   "source": [
    "res = es.search(index=INDEX_NAME, q=query, size=10)\n",
    "pprint.pprint(res)"
   ]
  },
  {
   "cell_type": "code",
   "execution_count": null,
   "metadata": {},
   "outputs": [],
   "source": [
    "for hit in res['hits']['hits']:\n",
    "    print(\"Doc ID: %3r  Score: %5.2f\" % (hit['_id'], hit['_score']))\n"
   ]
  },
  {
   "cell_type": "code",
   "execution_count": null,
   "metadata": {},
   "outputs": [],
   "source": []
  }
 ],
 "metadata": {
  "kernelspec": {
   "display_name": "Python 3",
   "language": "python",
   "name": "python3"
  },
  "language_info": {
   "codemirror_mode": {
    "name": "ipython",
    "version": 3
   },
   "file_extension": ".py",
   "mimetype": "text/x-python",
   "name": "python",
   "nbconvert_exporter": "python",
   "pygments_lexer": "ipython3",
   "version": "3.8.3"
  }
 },
 "nbformat": 4,
 "nbformat_minor": 4
}
