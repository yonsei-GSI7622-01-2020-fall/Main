{
 "cells": [
  {
   "cell_type": "markdown",
   "metadata": {},
   "source": [
    "## 어? 연예인 누구 닮으신 것 같아요!"
   ]
  },
  {
   "cell_type": "code",
   "execution_count": null,
   "metadata": {},
   "outputs": [],
   "source": [
    "import sys\n",
    "!{sys.executable} -m pip install boto3"
   ]
  },
  {
   "cell_type": "code",
   "execution_count": null,
   "metadata": {},
   "outputs": [],
   "source": [
    "\n",
    "from IPython.display import Image\n",
    "Image(filename=\"data/face.png\") "
   ]
  },
  {
   "cell_type": "markdown",
   "metadata": {},
   "source": [
    "## Amazon Rekognition"
   ]
  },
  {
   "cell_type": "code",
   "execution_count": null,
   "metadata": {},
   "outputs": [],
   "source": [
    "import boto3"
   ]
  },
  {
   "cell_type": "code",
   "execution_count": null,
   "metadata": {},
   "outputs": [],
   "source": [
    "ACCESS_KEY = ''\n",
    "SECRET_KEY = ''"
   ]
  },
  {
   "cell_type": "code",
   "execution_count": null,
   "metadata": {},
   "outputs": [],
   "source": [
    "def recognize_celebrities(photo):\n",
    "    #https://docs.aws.amazon.com/rekognition/latest/dg/celebrities-procedure-image.html \n",
    "    client = boto3.client('rekognition', \n",
    "                          aws_access_key_id=ACCESS_KEY,\n",
    "                          aws_secret_access_key=SECRET_KEY,\n",
    "                          region_name='ap-northeast-2')\n",
    "\n",
    "    with open(photo, 'rb') as image:\n",
    "        response = client.recognize_celebrities(Image={'Bytes': image.read()})\n",
    "\n",
    "    print('Detected faces for ' + photo)    \n",
    "    for celebrity in response['CelebrityFaces']:\n",
    "        print ('Name: ' + celebrity['Name'])\n",
    "        print ('Confidence: {:.2f}'.format(celebrity['MatchConfidence'])) \n",
    "        print ('Id: ' + celebrity['Id'])\n",
    "        print ('Position:')\n",
    "        print ('   Left: ' + '{:.2f}'.format(celebrity['Face']['BoundingBox']['Height']))\n",
    "        print ('   Top: ' + '{:.2f}'.format(celebrity['Face']['BoundingBox']['Top']))\n",
    "        print ('Info')\n",
    "        for url in celebrity['Urls']:\n",
    "            print ('   https://' + url)\n",
    "        print\n",
    "    return response['CelebrityFaces']"
   ]
  },
  {
   "cell_type": "code",
   "execution_count": null,
   "metadata": {
    "scrolled": false
   },
   "outputs": [],
   "source": [
    "celebs=recognize_celebrities(\"data/face.png\")\n",
    "\n"
   ]
  },
  {
   "cell_type": "markdown",
   "metadata": {},
   "source": [
    "## Naver "
   ]
  },
  {
   "cell_type": "code",
   "execution_count": null,
   "metadata": {},
   "outputs": [],
   "source": [
    "import os\n",
    "import sys\n",
    "import requests\n",
    "import pprint\n",
    "import json\n",
    "client_id = ''\n",
    "client_secret = ''\n",
    "url = \"https://naveropenapi.apigw.ntruss.com/vision/v1/celebrity\" \n",
    "files = {'image': open('data/face.png', 'rb')}\n",
    "headers = {'X-NCP-APIGW-API-KEY-ID': client_id, 'X-NCP-APIGW-API-KEY': client_secret }\n",
    "response = requests.post(url,  files=files, headers=headers)\n",
    "rescode = response.status_code\n",
    "if(rescode==200):\n",
    "    pprint.pprint(json.loads(response.text))\n",
    "else:\n",
    "    print(\"Error Code:\" + rescode)"
   ]
  },
  {
   "cell_type": "markdown",
   "metadata": {},
   "source": [
    "## Q 여러분들의 사진으로 한번 확인해보세요!"
   ]
  },
  {
   "cell_type": "code",
   "execution_count": null,
   "metadata": {},
   "outputs": [],
   "source": []
  }
 ],
 "metadata": {
  "kernelspec": {
   "display_name": "Python 3",
   "language": "python",
   "name": "python3"
  },
  "language_info": {
   "codemirror_mode": {
    "name": "ipython",
    "version": 3
   },
   "file_extension": ".py",
   "mimetype": "text/x-python",
   "name": "python",
   "nbconvert_exporter": "python",
   "pygments_lexer": "ipython3",
   "version": "3.8.5"
  }
 },
 "nbformat": 4,
 "nbformat_minor": 4
}
