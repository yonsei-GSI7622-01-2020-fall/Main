{
 "cells": [
  {
   "cell_type": "markdown",
   "metadata": {},
   "source": [
    "# 한국인만 알아들을 수 있는 글 번역하기!"
   ]
  },
  {
   "cell_type": "code",
   "execution_count": null,
   "metadata": {},
   "outputs": [],
   "source": [
    "from IPython.display import Image\n",
    "Image(filename='data/korean.jpg') "
   ]
  },
  {
   "cell_type": "markdown",
   "metadata": {},
   "source": [
    "## 1. Image to Text\n",
    "-출처: https://apidocs.ncloud.com/ko/ai-application-service/ocr/ocr/"
   ]
  },
  {
   "cell_type": "code",
   "execution_count": null,
   "metadata": {},
   "outputs": [],
   "source": [
    "\n",
    "import requests\n",
    "import uuid\n",
    "import time\n",
    "import base64\n",
    "import json\n",
    "\n",
    "api_url = '<YOUR_API_URL>'\n",
    "secret_key = '<YOUR_SECERET_KEY>'\n",
    "# image_url = 'YOUR_IMAGE_URL'\n",
    "image_file = 'data/korean.jpg'\n",
    "with open(image_file,'rb') as f:\n",
    "    file_data = f.read()\n",
    "\n",
    "request_json = {\n",
    "    'images': [\n",
    "        {\n",
    "            'format': 'jpg',\n",
    "            'name': 'demo',\n",
    "            'data': base64.b64encode(file_data).decode(),\n",
    "        }\n",
    "    ],\n",
    "    'requestId': str(uuid.uuid4()),\n",
    "    'version': 'V2',\n",
    "    'timestamp': int(round(time.time() * 1000))\n",
    "}\n",
    "\n",
    "payload = json.dumps(request_json).encode('UTF-8')\n",
    "headers = {\n",
    "  'X-OCR-SECRET': secret_key,\n",
    "  'Content-Type': 'application/json'\n",
    "}\n",
    "\n",
    "response = requests.request(\"POST\", api_url, headers=headers, data = payload)\n",
    "\n"
   ]
  },
  {
   "cell_type": "code",
   "execution_count": null,
   "metadata": {
    "scrolled": true
   },
   "outputs": [],
   "source": [
    "result = json.loads(response.text)\n",
    "extracted_text = ''\n",
    "for box in result['images'][0]['fields']:\n",
    "    extracted_text+=box['inferText'] +\" \"\n",
    "extracted_text"
   ]
  },
  {
   "cell_type": "markdown",
   "metadata": {},
   "source": [
    "## 2. Text to Speech\n",
    "-출처: https://apidocs.ncloud.com/ko/ai-naver/clova_speech_synthesis/tts/"
   ]
  },
  {
   "cell_type": "code",
   "execution_count": null,
   "metadata": {},
   "outputs": [],
   "source": [
    "import os\n",
    "import sys\n",
    "import urllib.request\n",
    "client_id = \"<YOUR_CLIENT_ID>\"\n",
    "client_secret = \"<YOUR_CLIENT_SECRET>\"\n",
    "encText = urllib.parse.quote(extracted_text)\n",
    "data = \"speaker=mijin&speed=0&text=\" + encText;\n",
    "url = \"https://naveropenapi.apigw.ntruss.com/voice/v1/tts\"\n",
    "request = urllib.request.Request(url)\n",
    "request.add_header(\"X-NCP-APIGW-API-KEY-ID\",client_id)\n",
    "request.add_header(\"X-NCP-APIGW-API-KEY\",client_secret)\n",
    "response = urllib.request.urlopen(request, data=data.encode('utf-8'))\n",
    "rescode = response.getcode()\n",
    "if(rescode==200):\n",
    "    print(\"TTS mp3 저장\")\n",
    "    response_body = response.read()\n",
    "    with open('1111.mp3', 'wb') as f:\n",
    "        f.write(response_body)\n",
    "else:\n",
    "    print(\"Error Code:\" + rescode)"
   ]
  },
  {
   "cell_type": "code",
   "execution_count": null,
   "metadata": {},
   "outputs": [],
   "source": [
    "import IPython.display as ipd\n",
    "ipd.Audio('1111.mp3')"
   ]
  },
  {
   "cell_type": "markdown",
   "metadata": {},
   "source": [
    "## 3. Speech to Text\n",
    "-출처: https://apidocs.ncloud.com/ko/ai-naver/clova_speech_recognition/stt/"
   ]
  },
  {
   "cell_type": "code",
   "execution_count": null,
   "metadata": {},
   "outputs": [],
   "source": [
    "import sys\n",
    "import requests\n",
    "\n",
    "lang = \"Kor\" # 언어 코드 ( Kor, Jpn, Eng, Chn )\n",
    "url = \"https://naveropenapi.apigw.ntruss.com/recog/v1/stt?lang=\" + lang\n",
    "data = open('1111.mp3', 'rb')\n",
    "headers = {\n",
    "    \"X-NCP-APIGW-API-KEY-ID\": client_id,\n",
    "    \"X-NCP-APIGW-API-KEY\": client_secret,\n",
    "    \"Content-Type\": \"application/octet-stream\"\n",
    "}\n",
    "response = requests.post(url,  data=data, headers=headers)\n",
    "rescode = response.status_code\n",
    "if(rescode == 200):\n",
    "    print (response.text)\n",
    "else:\n",
    "    print(\"Error : \" + response.text)\n"
   ]
  },
  {
   "cell_type": "code",
   "execution_count": null,
   "metadata": {},
   "outputs": [],
   "source": []
  }
 ],
 "metadata": {
  "kernelspec": {
   "display_name": "Python 3",
   "language": "python",
   "name": "python3"
  },
  "language_info": {
   "codemirror_mode": {
    "name": "ipython",
    "version": 3
   },
   "file_extension": ".py",
   "mimetype": "text/x-python",
   "name": "python",
   "nbconvert_exporter": "python",
   "pygments_lexer": "ipython3",
   "version": "3.8.5"
  }
 },
 "nbformat": 4,
 "nbformat_minor": 4
}
