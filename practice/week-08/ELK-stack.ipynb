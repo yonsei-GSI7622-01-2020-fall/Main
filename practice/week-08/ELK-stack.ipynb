{
 "cells": [
  {
   "cell_type": "markdown",
   "metadata": {},
   "source": [
    "# ELK STACK\n",
    "- 본자료는 허민석님의 ELK 강의를 기반으로 Python Client와 Elasticsearch 7.9버전에 맞게 재구성한 내용입니다\n",
    "- Sources:\n",
    "    - https://github.com/minsuk-heo/BigData\n",
    "    - https://www.youtube.com/watch?v=J2PIBQgEpC4&list=PLVNY1HnUlO24LCsgOxR_eK2Yi4sOgH9Pg&index=1\n",
    "    - https://kb.objectrocket.com/elasticsearch/how-to-use-python-helpers-to-bulk-load-data-into-an-elasticsearch-index\n",
    "    - https://docs.aws.amazon.com/ko_kr/elasticsearch-service/latest/developerguide/es-managedomains-logstash.html"
   ]
  },
  {
   "cell_type": "markdown",
   "metadata": {},
   "source": [
    "## 1. 라이브러리 설치 및 Import"
   ]
  },
  {
   "cell_type": "code",
   "execution_count": null,
   "metadata": {},
   "outputs": [],
   "source": [
    "import sys\n",
    "!{sys.executable} -m pip install elasticsearch\n",
    "\n"
   ]
  },
  {
   "cell_type": "code",
   "execution_count": null,
   "metadata": {},
   "outputs": [],
   "source": [
    "from elasticsearch import Elasticsearch, helpers\n",
    "import pprint"
   ]
  },
  {
   "cell_type": "markdown",
   "metadata": {},
   "source": [
    "## 2. Elasticsearch 연결"
   ]
  },
  {
   "cell_type": "code",
   "execution_count": null,
   "metadata": {},
   "outputs": [],
   "source": [
    "user = \"\"\n",
    "password = \"\"\n",
    "host = \"\"\n",
    "\n",
    "try:\n",
    "    es.transport.close()\n",
    "except:\n",
    "    pass\n",
    "es = Elasticsearch([host],http_auth=(user,password),scheme=\"https\",port=443)\n",
    "\n"
   ]
  },
  {
   "cell_type": "markdown",
   "metadata": {},
   "source": [
    "## 3. Classes라는 인덱스 생성"
   ]
  },
  {
   "cell_type": "code",
   "execution_count": null,
   "metadata": {},
   "outputs": [],
   "source": [
    "INDEX_NAME = \"classes\"\n",
    "if es.indices.exists(INDEX_NAME):\n",
    "    es.indices.delete(index=INDEX_NAME)\n",
    "es.indices.create(index=INDEX_NAME)"
   ]
  },
  {
   "cell_type": "code",
   "execution_count": null,
   "metadata": {},
   "outputs": [],
   "source": [
    "# 잘 생성이 되었는지 확인\n",
    "result = es.indices.get(index=INDEX_NAME)\n",
    "pprint.pprint(result)"
   ]
  },
  {
   "cell_type": "markdown",
   "metadata": {},
   "source": [
    "## 4. Mapping 추가\n",
    "- RDB로 치면 Schema"
   ]
  },
  {
   "cell_type": "code",
   "execution_count": null,
   "metadata": {},
   "outputs": [],
   "source": [
    "body= {\n",
    "    \"properties\" : {\n",
    "        \"title\" : {\n",
    "            \"type\" : \"text\"\n",
    "        },\n",
    "        \"professor\" : {\n",
    "            \"type\" : \"text\"\n",
    "        },\n",
    "        \"major\" : {\n",
    "            \"type\" : \"text\"\n",
    "        },\n",
    "        \"semester\" : {\n",
    "            \"type\" : \"text\"\n",
    "        },\n",
    "        \"student_count\" : {\n",
    "            \"type\" : \"integer\"\n",
    "        },\n",
    "        \"unit\" : {\n",
    "            \"type\" : \"integer\"\n",
    "        },\n",
    "        \"rating\" : {\n",
    "            \"type\" : \"integer\"\n",
    "        },\n",
    "        \"submit_date\" : {\n",
    "            \"type\" : \"date\",\n",
    "            \"format\" : \"yyyy-MM-dd\"\n",
    "        },\n",
    "        \"school_location\" : {\n",
    "            \"type\" : \"geo_point\"\n",
    "        }\n",
    "    }\n",
    "}\n",
    "es.indices.put_mapping(index=INDEX_NAME,body=body)"
   ]
  },
  {
   "cell_type": "code",
   "execution_count": null,
   "metadata": {},
   "outputs": [],
   "source": [
    "#잘 추가되었는지 확인\n",
    "result = es.indices.get(index=INDEX_NAME)\n",
    "pprint.pprint(result)"
   ]
  },
  {
   "cell_type": "markdown",
   "metadata": {},
   "source": [
    "### Bulk 인덱싱을 위한 함수들\n",
    "- https://kb.objectrocket.com/elasticsearch/how-to-use-python-helpers-to-bulk-load-data-into-an-elasticsearch-index"
   ]
  },
  {
   "cell_type": "code",
   "execution_count": null,
   "metadata": {},
   "outputs": [],
   "source": [
    "import uuid\n",
    "def get_data_from_file(file_name):\n",
    "    if \"/\" in file_name or chr(92) in file_name:\n",
    "        file = open(file_name, encoding=\"utf8\", errors='ignore')\n",
    "    else:\n",
    "        # use the script_path() function to get path if none is passed\n",
    "        file = open(script_path() + str(file_name), encoding=\"utf8\", errors='ignore')\n",
    "    data = [line.strip().replace(\" \",\"\") for line in file]\n",
    "    file.close()\n",
    "    return data\n",
    "\n",
    "def bulk_json_data(json_file, _index):\n",
    "    json_list = get_data_from_file(json_file)\n",
    "    for doc in json_list:\n",
    "        # use a `yield` generator so that the data\n",
    "        # isn't loaded inbto memory\n",
    "        if '{\"index\"' in doc:\n",
    "            _id = json.loads(doc)[\"index\"][\"_id\"]\n",
    "        if '{\"index\"' not in doc:\n",
    "            yield {\n",
    "                \"_index\": _index,\n",
    "                \"_id\": _id,\n",
    "                \"_source\": doc\n",
    "            }"
   ]
  },
  {
   "cell_type": "markdown",
   "metadata": {},
   "source": [
    "## Classes 데이터 인덱싱"
   ]
  },
  {
   "cell_type": "code",
   "execution_count": null,
   "metadata": {},
   "outputs": [],
   "source": [
    "try:\n",
    "    response = helpers.bulk(es, bulk_json_data(\"data/classes.json\", INDEX_NAME))\n",
    "    print (\"\\nRESPONSE:\", response)\n",
    "except Exception as e:\n",
    "    print(\"\\nERROR:\", e)"
   ]
  },
  {
   "cell_type": "code",
   "execution_count": null,
   "metadata": {},
   "outputs": [],
   "source": [
    "#잘 들어갔는지 확인!\n",
    "doc = es.get(index=INDEX_NAME, id=1)\n",
    "pprint.pprint(doc)"
   ]
  },
  {
   "cell_type": "markdown",
   "metadata": {},
   "source": [
    "## Elasticsearch의 Search 함수 활용해보기"
   ]
  },
  {
   "cell_type": "code",
   "execution_count": null,
   "metadata": {},
   "outputs": [],
   "source": [
    "INDEX_NAME = \"basketball\"\n",
    "try:\n",
    "    response = helpers.bulk(es, bulk_json_data(\"data/bulk_basketball.json\", INDEX_NAME))\n",
    "    print (\"\\nRESPONSE:\", response)\n",
    "except Exception as e:\n",
    "    print(\"\\nERROR:\", e)"
   ]
  },
  {
   "cell_type": "code",
   "execution_count": null,
   "metadata": {},
   "outputs": [],
   "source": [
    "res = es.search(index=INDEX_NAME)\n",
    "pprint.pprint(res)"
   ]
  },
  {
   "cell_type": "code",
   "execution_count": null,
   "metadata": {},
   "outputs": [],
   "source": [
    "body = {\n",
    "    \"query\": {\n",
    "        \"term\": {\n",
    "            \"points\":30\n",
    "        }\n",
    "    }\n",
    "}\n",
    "res = es.search(body=body,index=INDEX_NAME)\n",
    "pprint.pprint(res)"
   ]
  },
  {
   "cell_type": "markdown",
   "metadata": {},
   "source": [
    "## Elasticsearch의 Aggregation 활용해보기"
   ]
  },
  {
   "cell_type": "code",
   "execution_count": null,
   "metadata": {},
   "outputs": [],
   "source": [
    "INDEX_NAME = \"basketball\"\n",
    "if es.indices.exists(INDEX_NAME):\n",
    "    es.indices.delete(index=INDEX_NAME)\n",
    "try:\n",
    "    response = helpers.bulk(es, bulk_json_data(\"data/simple_basketball.json\", INDEX_NAME))\n",
    "    print (\"\\nRESPONSE:\", response)\n",
    "except Exception as e:\n",
    "    print(\"\\nERROR:\", e)"
   ]
  },
  {
   "cell_type": "code",
   "execution_count": null,
   "metadata": {},
   "outputs": [],
   "source": [
    "body = {\n",
    "    \"size\" : 0,\n",
    "    \"aggs\" : {\n",
    "        \"avg_score\" : {\n",
    "            \"avg\" : {\n",
    "                \"field\" : \"points\"\n",
    "            }\n",
    "        }\n",
    "    }\n",
    "}\n",
    "res = es.search(body=body,index=INDEX_NAME)\n",
    "pprint.pprint(res)"
   ]
  },
  {
   "cell_type": "code",
   "execution_count": null,
   "metadata": {},
   "outputs": [],
   "source": [
    "body = {\n",
    "    \"size\" : 0,\n",
    "    \"aggs\" : {\n",
    "        \"max_score\" : {\n",
    "            \"max\" : {\n",
    "                \"field\" : \"points\"\n",
    "            }\n",
    "        }\n",
    "    }\n",
    "}\n",
    "res = es.search(body=body,index=INDEX_NAME)\n",
    "pprint.pprint(res)"
   ]
  },
  {
   "cell_type": "code",
   "execution_count": null,
   "metadata": {},
   "outputs": [],
   "source": [
    "body = {\n",
    "    \"size\" : 0,\n",
    "    \"aggs\" : {\n",
    "        \"min_score\" : {\n",
    "            \"min\" : {\n",
    "                \"field\" : \"points\"\n",
    "            }\n",
    "        }\n",
    "    }\n",
    "}\n",
    "res = es.search(body=body,index=INDEX_NAME)\n",
    "pprint.pprint(res)"
   ]
  },
  {
   "cell_type": "code",
   "execution_count": null,
   "metadata": {},
   "outputs": [],
   "source": [
    "body = {\n",
    "    \"size\" : 0,\n",
    "    \"aggs\" : {\n",
    "        \"sum_score\" : {\n",
    "            \"sum\" : {\n",
    "                \"field\" : \"points\"\n",
    "            }\n",
    "        }\n",
    "    }\n",
    "}\n",
    "res = es.search(body=body,index=INDEX_NAME)\n",
    "pprint.pprint(res)"
   ]
  },
  {
   "cell_type": "code",
   "execution_count": null,
   "metadata": {
    "scrolled": true
   },
   "outputs": [],
   "source": [
    "body ={\n",
    "    \"size\" : 0,\n",
    "    \"aggs\" : {\n",
    "        \"stats_score\" : {\n",
    "            \"stats\" : {\n",
    "                \"field\" : \"points\"\n",
    "            }\n",
    "        }\n",
    "    }\n",
    "}\n",
    "res = es.search(body=body,index=INDEX_NAME)\n",
    "pprint.pprint(res)"
   ]
  },
  {
   "cell_type": "markdown",
   "metadata": {},
   "source": [
    "## Elasticsearch의 Buckey Aggregation 활용해보기"
   ]
  },
  {
   "cell_type": "code",
   "execution_count": null,
   "metadata": {},
   "outputs": [],
   "source": [
    "INDEX_NAME = \"basketball\"\n",
    "if es.indices.exists(INDEX_NAME):\n",
    "    es.indices.delete(index=INDEX_NAME)\n",
    "\n",
    "es.indices.create(index=INDEX_NAME)"
   ]
  },
  {
   "cell_type": "code",
   "execution_count": null,
   "metadata": {},
   "outputs": [],
   "source": [
    "#FieldData 가 True인 이유\n",
    "#Term aggregation을 위해\n",
    "body= {\n",
    "    \"properties\" : {\n",
    "        \"team\" : {\n",
    "            \"type\" : \"text\",\n",
    "            \"fielddata\" : True\n",
    "        },\n",
    "        \"name\" : {\n",
    "            \"type\" : \"text\",\n",
    "            \"fielddata\" : True\n",
    "        },\n",
    "        \"points\" : {\n",
    "            \"type\" : \"long\"\n",
    "        },\n",
    "        \"rebounds\" : {\n",
    "            \"type\" : \"long\"\n",
    "        },\n",
    "        \"assists\" : {\n",
    "            \"type\" : \"long\"\n",
    "        },\n",
    "        \"blocks\" : {\n",
    "            \"type\" : \"long\"\n",
    "        },\n",
    "        \"submit_date\" : {\n",
    "            \"type\" : \"date\",\n",
    "            \"format\" : \"yyyy-MM-dd\"\n",
    "        }\n",
    "    }\n",
    "}\n",
    "\n",
    "es.indices.put_mapping(index=INDEX_NAME,body=body)"
   ]
  },
  {
   "cell_type": "code",
   "execution_count": null,
   "metadata": {},
   "outputs": [],
   "source": [
    "try:\n",
    "    response = helpers.bulk(es, bulk_json_data(\"data/twoteam_basketball.json\", INDEX_NAME))\n",
    "    print (\"\\nRESPONSE:\", response)\n",
    "except Exception as e:\n",
    "    print(\"\\nERROR:\", e)"
   ]
  },
  {
   "cell_type": "code",
   "execution_count": null,
   "metadata": {},
   "outputs": [],
   "source": [
    "body = {\n",
    "    \"size\" : 0,\n",
    "    \"aggs\" : {\n",
    "        \"players\" : {\n",
    "            \"terms\" : {\n",
    "                \"field\" : \"team\"\n",
    "            }\n",
    "        }\n",
    "    }\n",
    "}\n",
    "res = es.search(body=body,index=INDEX_NAME)\n",
    "pprint.pprint(res)"
   ]
  },
  {
   "cell_type": "code",
   "execution_count": null,
   "metadata": {},
   "outputs": [],
   "source": [
    "body = {\n",
    "    \"size\" : 0,\n",
    "    \"aggs\" : {\n",
    "        \"team_stats\" : {\n",
    "            \"terms\" : {\n",
    "                \"field\" : \"team\"\n",
    "            },\n",
    "            \"aggs\" : {\n",
    "                \"stats_score\" : {\n",
    "                    \"stats\" : {\n",
    "                        \"field\" : \"points\"\n",
    "                    }\n",
    "                }\n",
    "            }\n",
    "        }\n",
    "    }\n",
    "}\n",
    "res = es.search(body=body,index=INDEX_NAME)\n",
    "pprint.pprint(res)"
   ]
  },
  {
   "cell_type": "markdown",
   "metadata": {},
   "source": [
    "## Kibana 활용해보기"
   ]
  },
  {
   "cell_type": "code",
   "execution_count": null,
   "metadata": {},
   "outputs": [],
   "source": [
    "INDEX_NAME = \"basketball\"\n",
    "if es.indices.exists(INDEX_NAME):\n",
    "    es.indices.delete(index=INDEX_NAME)\n",
    "\n",
    "es.indices.create(index=INDEX_NAME)"
   ]
  },
  {
   "cell_type": "code",
   "execution_count": null,
   "metadata": {},
   "outputs": [],
   "source": [
    "#FieldData 가 True인 이유\n",
    "#Term aggregation을 위해\n",
    "body={\n",
    "    \"properties\" : {\n",
    "        \"team\" : {\n",
    "            \"type\" : \"text\",\n",
    "            \"fielddata\" : True\n",
    "        },\n",
    "        \"name\" : {\n",
    "            \"type\" : \"text\",\n",
    "            \"fielddata\" : True\n",
    "        },\n",
    "        \"points\" : {\n",
    "            \"type\" : \"long\"\n",
    "        },\n",
    "        \"rebounds\" : {\n",
    "            \"type\" : \"long\"\n",
    "        },\n",
    "        \"assists\" : {\n",
    "            \"type\" : \"long\"\n",
    "        },\n",
    "        \"blocks\" : {\n",
    "            \"type\" : \"long\"\n",
    "        },\n",
    "        \"submit_date\" : {\n",
    "            \"type\" : \"date\",\n",
    "            \"format\" : \"yyyy-MM-dd\"\n",
    "        }\n",
    "    }\n",
    "}\n",
    "\n",
    "\n",
    "es.indices.put_mapping(index=INDEX_NAME,body=body)"
   ]
  },
  {
   "cell_type": "code",
   "execution_count": null,
   "metadata": {},
   "outputs": [],
   "source": [
    "try:\n",
    "    response = helpers.bulk(es, bulk_json_data(\"data/bulk_basketball2.json\", INDEX_NAME))\n",
    "    print (\"\\nRESPONSE:\", response)\n",
    "except Exception as e:\n",
    "    print(\"\\nERROR:\", e)"
   ]
  },
  {
   "cell_type": "code",
   "execution_count": null,
   "metadata": {},
   "outputs": [],
   "source": []
  }
 ],
 "metadata": {
  "kernelspec": {
   "display_name": "Python 3",
   "language": "python",
   "name": "python3"
  },
  "language_info": {
   "codemirror_mode": {
    "name": "ipython",
    "version": 3
   },
   "file_extension": ".py",
   "mimetype": "text/x-python",
   "name": "python",
   "nbconvert_exporter": "python",
   "pygments_lexer": "ipython3",
   "version": "3.8.3"
  }
 },
 "nbformat": 4,
 "nbformat_minor": 4
}
