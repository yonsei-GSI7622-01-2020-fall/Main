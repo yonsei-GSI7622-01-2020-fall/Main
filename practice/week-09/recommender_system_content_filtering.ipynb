{
 "cells": [
  {
   "cell_type": "markdown",
   "metadata": {},
   "source": [
    "# Content Based Filtering\n",
    "- 영화의 줄거리를 이용해, TF-IDF를 계산한뒤, TF-IDF 벡터간의 유사도를 구해 비슷한 영화를 추천\n",
    "- https://wikidocs.net/24603"
   ]
  },
  {
   "cell_type": "markdown",
   "metadata": {},
   "source": [
    "## 1. 데이터 Load"
   ]
  },
  {
   "cell_type": "code",
   "execution_count": 1,
   "metadata": {},
   "outputs": [],
   "source": [
    "import csv\n",
    "import pandas as pd\n",
    "import numpy as np\n",
    "from sklearn.feature_extraction.text import TfidfVectorizer\n",
    "from sklearn.metrics.pairwise import linear_kernel\n"
   ]
  },
  {
   "cell_type": "code",
   "execution_count": 38,
   "metadata": {},
   "outputs": [
    {
     "data": {
      "text/html": [
       "<div>\n",
       "<style scoped>\n",
       "    .dataframe tbody tr th:only-of-type {\n",
       "        vertical-align: middle;\n",
       "    }\n",
       "\n",
       "    .dataframe tbody tr th {\n",
       "        vertical-align: top;\n",
       "    }\n",
       "\n",
       "    .dataframe thead th {\n",
       "        text-align: right;\n",
       "    }\n",
       "</style>\n",
       "<table border=\"1\" class=\"dataframe\">\n",
       "  <thead>\n",
       "    <tr style=\"text-align: right;\">\n",
       "      <th></th>\n",
       "      <th>id</th>\n",
       "      <th>title</th>\n",
       "      <th>story</th>\n",
       "      <th>gender</th>\n",
       "      <th>link</th>\n",
       "      <th>image</th>\n",
       "    </tr>\n",
       "  </thead>\n",
       "  <tbody>\n",
       "    <tr>\n",
       "      <th>398</th>\n",
       "      <td>398</td>\n",
       "      <td>스파이</td>\n",
       "      <td>규연은 선우의 가족들을 '가족 간첩단'으로 몰아가며 사건을 마무리 지으려 한다. 더...</td>\n",
       "      <td>N</td>\n",
       "      <td>https://movie.naver.com/movie/bi/mi/basic.nhn?...</td>\n",
       "      <td>https://movie-phinf.pstatic.net/20150507_77/14...</td>\n",
       "    </tr>\n",
       "    <tr>\n",
       "      <th>399</th>\n",
       "      <td>399</td>\n",
       "      <td>파도가 지나간 자리</td>\n",
       "      <td>1차 세계대전 참전용사였던 ‘톰’(마이클 패스벤더)은 전쟁의 상처로 사람들을 피해 ...</td>\n",
       "      <td>F</td>\n",
       "      <td>https://movie.naver.com/movie/bi/mi/basic.nhn?...</td>\n",
       "      <td>https://movie-phinf.pstatic.net/20170207_77/14...</td>\n",
       "    </tr>\n",
       "    <tr>\n",
       "      <th>400</th>\n",
       "      <td>400</td>\n",
       "      <td>스타 이즈 본</td>\n",
       "      <td>노래에 놀라운 재능을 가졌지만 외모에는 자신이 없는 무명가수 앨리(레이디 가가)는 ...</td>\n",
       "      <td>F</td>\n",
       "      <td>https://movie.naver.com/movie/bi/mi/basic.nhn?...</td>\n",
       "      <td>https://movie-phinf.pstatic.net/20180912_118/1...</td>\n",
       "    </tr>\n",
       "    <tr>\n",
       "      <th>401</th>\n",
       "      <td>401</td>\n",
       "      <td>빌리 엘리어트</td>\n",
       "      <td>영국 북부 탄광촌에 사는 11살 소년 빌리. 매일 복싱을 배우러 가는 체육관에서 우...</td>\n",
       "      <td>F</td>\n",
       "      <td>https://movie.naver.com/movie/bi/mi/basic.nhn?...</td>\n",
       "      <td>https://movie-phinf.pstatic.net/20170105_296/1...</td>\n",
       "    </tr>\n",
       "    <tr>\n",
       "      <th>402</th>\n",
       "      <td>402</td>\n",
       "      <td>보디가드</td>\n",
       "      <td>많은 사람들의 관심 속에 사는 최고의 팝스타 레이첼에게 의문의 협박편지가 날아든다....</td>\n",
       "      <td>F</td>\n",
       "      <td>https://movie.naver.com/movie/bi/mi/basic.nhn?...</td>\n",
       "      <td>https://movie-phinf.pstatic.net/20160711_34/14...</td>\n",
       "    </tr>\n",
       "  </tbody>\n",
       "</table>\n",
       "</div>"
      ],
      "text/plain": [
       "      id       title                                              story  \\\n",
       "398  398         스파이  규연은 선우의 가족들을 '가족 간첩단'으로 몰아가며 사건을 마무리 지으려 한다. 더...   \n",
       "399  399  파도가 지나간 자리  1차 세계대전 참전용사였던 ‘톰’(마이클 패스벤더)은 전쟁의 상처로 사람들을 피해 ...   \n",
       "400  400     스타 이즈 본  노래에 놀라운 재능을 가졌지만 외모에는 자신이 없는 무명가수 앨리(레이디 가가)는 ...   \n",
       "401  401     빌리 엘리어트  영국 북부 탄광촌에 사는 11살 소년 빌리. 매일 복싱을 배우러 가는 체육관에서 우...   \n",
       "402  402        보디가드  많은 사람들의 관심 속에 사는 최고의 팝스타 레이첼에게 의문의 협박편지가 날아든다....   \n",
       "\n",
       "    gender                                               link  \\\n",
       "398      N  https://movie.naver.com/movie/bi/mi/basic.nhn?...   \n",
       "399      F  https://movie.naver.com/movie/bi/mi/basic.nhn?...   \n",
       "400      F  https://movie.naver.com/movie/bi/mi/basic.nhn?...   \n",
       "401      F  https://movie.naver.com/movie/bi/mi/basic.nhn?...   \n",
       "402      F  https://movie.naver.com/movie/bi/mi/basic.nhn?...   \n",
       "\n",
       "                                                 image  \n",
       "398  https://movie-phinf.pstatic.net/20150507_77/14...  \n",
       "399  https://movie-phinf.pstatic.net/20170207_77/14...  \n",
       "400  https://movie-phinf.pstatic.net/20180912_118/1...  \n",
       "401  https://movie-phinf.pstatic.net/20170105_296/1...  \n",
       "402  https://movie-phinf.pstatic.net/20160711_34/14...  "
      ]
     },
     "execution_count": 38,
     "metadata": {},
     "output_type": "execute_result"
    }
   ],
   "source": [
    "\n",
    "movies = pd.read_csv(\"movie_doc.csv\",sep=\"\\t\")\n",
    "movies.tail()"
   ]
  },
  {
   "cell_type": "code",
   "execution_count": 4,
   "metadata": {},
   "outputs": [],
   "source": [
    "stop_words = []\n",
    "with open('korean_stopwords.txt', encoding=\"utf-8\") as f:\n",
    "    for line in f.readlines():\n",
    "        row = line.strip().split()[0]\n",
    "        stop_words.append(row)"
   ]
  },
  {
   "cell_type": "markdown",
   "metadata": {},
   "source": [
    "## 2. Tokenizer 정의"
   ]
  },
  {
   "cell_type": "code",
   "execution_count": 6,
   "metadata": {},
   "outputs": [],
   "source": [
    "from konlpy.tag import Okt\n",
    "okt = Okt()\n"
   ]
  },
  {
   "cell_type": "code",
   "execution_count": 7,
   "metadata": {},
   "outputs": [],
   "source": [
    "pd.options.mode.chained_assignment = None\n",
    "np.random.seed(0)\n",
    "\n",
    "from konlpy.tag import Okt\n",
    "okt = Okt()\n",
    "\n",
    "from sklearn.feature_extraction.text import TfidfVectorizer, CountVectorizer\n",
    "from sklearn.metrics.pairwise import linear_kernel, cosine_similarity\n",
    "\n",
    "# tokenizer : 문장에서 색인어 추출을 위해 명사,동사,알파벳,숫자 정도의 단어만 뽑아서 normalization, stemming 처리하도록 함\n",
    "def tokenizer(raw, pos=[\"Noun\"], stopword=[stop_words]):\n",
    "    return [\n",
    "        word for word, tag in okt.pos(\n",
    "            raw, \n",
    "            norm=True,   # normalize 그랰ㅋㅋ -> 그래ㅋㅋ\n",
    "            stem=True    # stemming 바뀌나->바뀌다\n",
    "            )\n",
    "            if len(word) > 1 and tag in pos and word not in stopword\n",
    "        ]\n",
    "\n",
    "# 테스트 문장\n",
    "rawdata = movies['story'].tolist()"
   ]
  },
  {
   "cell_type": "markdown",
   "metadata": {},
   "source": [
    "## 3. TF-IDF 행렬 계산"
   ]
  },
  {
   "cell_type": "code",
   "execution_count": 11,
   "metadata": {},
   "outputs": [
    {
     "name": "stdout",
     "output_type": "stream",
     "text": [
      "fit_transform, (sentence 403, feature 635)\n",
      "[[0.         0.         0.         ... 0.         0.         0.        ]\n",
      " [0.         0.         0.         ... 0.         0.         0.        ]\n",
      " [0.         0.         0.         ... 0.         0.         0.        ]\n",
      " ...\n",
      " [0.         0.         0.         ... 0.         0.         0.        ]\n",
      " [0.         0.         0.         ... 0.         0.         0.        ]\n",
      " [0.         0.24616584 0.         ... 0.         0.         0.        ]]\n"
     ]
    }
   ],
   "source": [
    "vectorize = TfidfVectorizer(\n",
    "    tokenizer=tokenizer,\n",
    "    min_df=0.01,    \n",
    "    max_df=0.99,    \n",
    "    sublinear_tf=True    # tf값에 1+log(tf)를 적용하여 tf값이 무한정 커지는 것을 막음\n",
    ")\n",
    "X = vectorize.fit_transform(rawdata)\n",
    "\n",
    "print(\n",
    "    'fit_transform, (sentence {}, feature {})'.format(X.shape[0], X.shape[1])\n",
    ")\n",
    "\n",
    "\n",
    "print(X.toarray())\n",
    "\n",
    "\n",
    "\n",
    "# 문장에서 뽑아낸 feature 들의 배열\n",
    "features = vectorize.get_feature_names()\n"
   ]
  },
  {
   "cell_type": "code",
   "execution_count": 12,
   "metadata": {},
   "outputs": [],
   "source": [
    "tf_idf_mtx = pd.DataFrame(X.toarray(), columns = features)"
   ]
  },
  {
   "cell_type": "code",
   "execution_count": 13,
   "metadata": {},
   "outputs": [
    {
     "data": {
      "text/html": [
       "<div>\n",
       "<style scoped>\n",
       "    .dataframe tbody tr th:only-of-type {\n",
       "        vertical-align: middle;\n",
       "    }\n",
       "\n",
       "    .dataframe tbody tr th {\n",
       "        vertical-align: top;\n",
       "    }\n",
       "\n",
       "    .dataframe thead th {\n",
       "        text-align: right;\n",
       "    }\n",
       "</style>\n",
       "<table border=\"1\" class=\"dataframe\">\n",
       "  <thead>\n",
       "    <tr style=\"text-align: right;\">\n",
       "      <th></th>\n",
       "      <th>가게</th>\n",
       "      <th>가까이</th>\n",
       "      <th>가득</th>\n",
       "      <th>가슴</th>\n",
       "      <th>가운데</th>\n",
       "      <th>가을</th>\n",
       "      <th>가장</th>\n",
       "      <th>가정</th>\n",
       "      <th>가족</th>\n",
       "      <th>가지</th>\n",
       "      <th>...</th>\n",
       "      <th>확인</th>\n",
       "      <th>활동</th>\n",
       "      <th>활약</th>\n",
       "      <th>황제</th>\n",
       "      <th>회사</th>\n",
       "      <th>훈련</th>\n",
       "      <th>흔적</th>\n",
       "      <th>희망</th>\n",
       "      <th>희망이</th>\n",
       "      <th>히어로</th>\n",
       "    </tr>\n",
       "  </thead>\n",
       "  <tbody>\n",
       "    <tr>\n",
       "      <th>0</th>\n",
       "      <td>0.0</td>\n",
       "      <td>0.0</td>\n",
       "      <td>0.0</td>\n",
       "      <td>0.0</td>\n",
       "      <td>0.000000</td>\n",
       "      <td>0.0</td>\n",
       "      <td>0.00000</td>\n",
       "      <td>0.0</td>\n",
       "      <td>0.000000</td>\n",
       "      <td>0.0</td>\n",
       "      <td>...</td>\n",
       "      <td>0.0</td>\n",
       "      <td>0.0</td>\n",
       "      <td>0.0</td>\n",
       "      <td>0.0</td>\n",
       "      <td>0.000000</td>\n",
       "      <td>0.000000</td>\n",
       "      <td>0.255697</td>\n",
       "      <td>0.0</td>\n",
       "      <td>0.0</td>\n",
       "      <td>0.0</td>\n",
       "    </tr>\n",
       "    <tr>\n",
       "      <th>1</th>\n",
       "      <td>0.0</td>\n",
       "      <td>0.0</td>\n",
       "      <td>0.0</td>\n",
       "      <td>0.0</td>\n",
       "      <td>0.000000</td>\n",
       "      <td>0.0</td>\n",
       "      <td>0.00000</td>\n",
       "      <td>0.0</td>\n",
       "      <td>0.000000</td>\n",
       "      <td>0.0</td>\n",
       "      <td>...</td>\n",
       "      <td>0.0</td>\n",
       "      <td>0.0</td>\n",
       "      <td>0.0</td>\n",
       "      <td>0.0</td>\n",
       "      <td>0.000000</td>\n",
       "      <td>0.000000</td>\n",
       "      <td>0.000000</td>\n",
       "      <td>0.0</td>\n",
       "      <td>0.0</td>\n",
       "      <td>0.0</td>\n",
       "    </tr>\n",
       "    <tr>\n",
       "      <th>2</th>\n",
       "      <td>0.0</td>\n",
       "      <td>0.0</td>\n",
       "      <td>0.0</td>\n",
       "      <td>0.0</td>\n",
       "      <td>0.172706</td>\n",
       "      <td>0.0</td>\n",
       "      <td>0.14099</td>\n",
       "      <td>0.0</td>\n",
       "      <td>0.123478</td>\n",
       "      <td>0.0</td>\n",
       "      <td>...</td>\n",
       "      <td>0.0</td>\n",
       "      <td>0.0</td>\n",
       "      <td>0.0</td>\n",
       "      <td>0.0</td>\n",
       "      <td>0.181683</td>\n",
       "      <td>0.000000</td>\n",
       "      <td>0.000000</td>\n",
       "      <td>0.0</td>\n",
       "      <td>0.0</td>\n",
       "      <td>0.0</td>\n",
       "    </tr>\n",
       "    <tr>\n",
       "      <th>3</th>\n",
       "      <td>0.0</td>\n",
       "      <td>0.0</td>\n",
       "      <td>0.0</td>\n",
       "      <td>0.0</td>\n",
       "      <td>0.000000</td>\n",
       "      <td>0.0</td>\n",
       "      <td>0.00000</td>\n",
       "      <td>0.0</td>\n",
       "      <td>0.000000</td>\n",
       "      <td>0.0</td>\n",
       "      <td>...</td>\n",
       "      <td>0.0</td>\n",
       "      <td>0.0</td>\n",
       "      <td>0.0</td>\n",
       "      <td>0.0</td>\n",
       "      <td>0.000000</td>\n",
       "      <td>0.195718</td>\n",
       "      <td>0.000000</td>\n",
       "      <td>0.0</td>\n",
       "      <td>0.0</td>\n",
       "      <td>0.0</td>\n",
       "    </tr>\n",
       "    <tr>\n",
       "      <th>4</th>\n",
       "      <td>0.0</td>\n",
       "      <td>0.0</td>\n",
       "      <td>0.0</td>\n",
       "      <td>0.0</td>\n",
       "      <td>0.000000</td>\n",
       "      <td>0.0</td>\n",
       "      <td>0.00000</td>\n",
       "      <td>0.0</td>\n",
       "      <td>0.000000</td>\n",
       "      <td>0.0</td>\n",
       "      <td>...</td>\n",
       "      <td>0.0</td>\n",
       "      <td>0.0</td>\n",
       "      <td>0.0</td>\n",
       "      <td>0.0</td>\n",
       "      <td>0.000000</td>\n",
       "      <td>0.000000</td>\n",
       "      <td>0.000000</td>\n",
       "      <td>0.0</td>\n",
       "      <td>0.0</td>\n",
       "      <td>0.0</td>\n",
       "    </tr>\n",
       "  </tbody>\n",
       "</table>\n",
       "<p>5 rows × 635 columns</p>\n",
       "</div>"
      ],
      "text/plain": [
       "    가게  가까이   가득   가슴       가운데   가을       가장   가정        가족   가지  ...   확인  \\\n",
       "0  0.0  0.0  0.0  0.0  0.000000  0.0  0.00000  0.0  0.000000  0.0  ...  0.0   \n",
       "1  0.0  0.0  0.0  0.0  0.000000  0.0  0.00000  0.0  0.000000  0.0  ...  0.0   \n",
       "2  0.0  0.0  0.0  0.0  0.172706  0.0  0.14099  0.0  0.123478  0.0  ...  0.0   \n",
       "3  0.0  0.0  0.0  0.0  0.000000  0.0  0.00000  0.0  0.000000  0.0  ...  0.0   \n",
       "4  0.0  0.0  0.0  0.0  0.000000  0.0  0.00000  0.0  0.000000  0.0  ...  0.0   \n",
       "\n",
       "    활동   활약   황제        회사        훈련        흔적   희망  희망이  히어로  \n",
       "0  0.0  0.0  0.0  0.000000  0.000000  0.255697  0.0  0.0  0.0  \n",
       "1  0.0  0.0  0.0  0.000000  0.000000  0.000000  0.0  0.0  0.0  \n",
       "2  0.0  0.0  0.0  0.181683  0.000000  0.000000  0.0  0.0  0.0  \n",
       "3  0.0  0.0  0.0  0.000000  0.195718  0.000000  0.0  0.0  0.0  \n",
       "4  0.0  0.0  0.0  0.000000  0.000000  0.000000  0.0  0.0  0.0  \n",
       "\n",
       "[5 rows x 635 columns]"
      ]
     },
     "execution_count": 13,
     "metadata": {},
     "output_type": "execute_result"
    }
   ],
   "source": [
    "tf_idf_mtx.head()"
   ]
  },
  {
   "cell_type": "markdown",
   "metadata": {},
   "source": [
    "## 4. Cosine 유사도 계산"
   ]
  },
  {
   "cell_type": "code",
   "execution_count": 15,
   "metadata": {},
   "outputs": [],
   "source": [
    "cosine_sim = linear_kernel(tf_idf_mtx, tf_idf_mtx)"
   ]
  },
  {
   "cell_type": "code",
   "execution_count": 16,
   "metadata": {},
   "outputs": [
    {
     "data": {
      "text/plain": [
       "array([[1.        , 0.01615743, 0.02670028, ..., 0.02337501, 0.        ,\n",
       "        0.03843376],\n",
       "       [0.01615743, 1.        , 0.07685338, ..., 0.06754139, 0.        ,\n",
       "        0.04159549],\n",
       "       [0.02670028, 0.07685338, 1.        , ..., 0.02912564, 0.04469684,\n",
       "        0.09572375],\n",
       "       ...,\n",
       "       [0.02337501, 0.06754139, 0.02912564, ..., 1.        , 0.0475114 ,\n",
       "        0.08591473],\n",
       "       [0.        , 0.        , 0.04469684, ..., 0.0475114 , 1.        ,\n",
       "        0.        ],\n",
       "       [0.03843376, 0.04159549, 0.09572375, ..., 0.08591473, 0.        ,\n",
       "        1.        ]])"
      ]
     },
     "execution_count": 16,
     "metadata": {},
     "output_type": "execute_result"
    }
   ],
   "source": [
    "cosine_sim"
   ]
  },
  {
   "cell_type": "code",
   "execution_count": 19,
   "metadata": {},
   "outputs": [
    {
     "name": "stdout",
     "output_type": "stream",
     "text": [
      "title\n",
      "인비저블 게스트         0\n",
      "나, 다니엘 블레이크      1\n",
      "국가부도의 날          2\n",
      "당갈               3\n",
      "스파이더맨: 파 프롬 홈    4\n",
      "dtype: int64\n"
     ]
    }
   ],
   "source": [
    "indices = pd.Series(movies.index, index=movies['title'])\n",
    "print(indices.head())"
   ]
  },
  {
   "cell_type": "markdown",
   "metadata": {},
   "source": [
    "## 5. 비슷한 영화 추천"
   ]
  },
  {
   "cell_type": "code",
   "execution_count": 20,
   "metadata": {},
   "outputs": [],
   "source": [
    "def get_recommendations(title, cosine_sim=cosine_sim):\n",
    "    # 선택한 영화의 타이틀로부터 해당되는 인덱스를 받아옵니다. 이제 선택한 영화를 가지고 연산할 수 있습니다.\n",
    "    idx = indices[title]\n",
    "\n",
    "    # 모든 영화에 대해서 해당 영화와의 유사도를 구합니다.\n",
    "    sim_scores = list(enumerate(cosine_sim[idx]))\n",
    "\n",
    "    # 유사도에 따라 영화들을 정렬합니다.\n",
    "    sim_scores = sorted(sim_scores, key=lambda x: x[1], reverse=True)\n",
    "\n",
    "    # 가장 유사한 10개의 영화를 받아옵니다.\n",
    "    sim_scores = sim_scores[1:11]\n",
    "\n",
    "    # 가장 유사한 10개의 영화의 인덱스를 받아옵니다.\n",
    "    movie_indices = [i[0] for i in sim_scores]\n",
    "\n",
    "    # 가장 유사한 10개의 영화의 제목을 리턴합니다.\n",
    "    return movies['title'].iloc[movie_indices]\n"
   ]
  },
  {
   "cell_type": "code",
   "execution_count": 23,
   "metadata": {},
   "outputs": [
    {
     "data": {
      "text/plain": [
       "282       죽거나 혹은 나쁘거나\n",
       "264             트리플 9\n",
       "335            다크 나이트\n",
       "375    미션 임파서블: 로그네이션\n",
       "203            살인의 추억\n",
       "315        아이 인 더 스카이\n",
       "359      분노의 질주: 더 세븐\n",
       "46                 암살\n",
       "219      미션 임파서블: 폴아웃\n",
       "367             공각기동대\n",
       "Name: title, dtype: object"
      ]
     },
     "execution_count": 23,
     "metadata": {},
     "output_type": "execute_result"
    }
   ],
   "source": [
    "get_recommendations('범죄도시')\n"
   ]
  },
  {
   "cell_type": "code",
   "execution_count": 27,
   "metadata": {},
   "outputs": [
    {
     "data": {
      "text/plain": [
       "pandas.core.series.Series"
      ]
     },
     "execution_count": 27,
     "metadata": {},
     "output_type": "execute_result"
    }
   ],
   "source": [
    "type(indices)"
   ]
  },
  {
   "cell_type": "markdown",
   "metadata": {},
   "source": [
    "## 6. 관련 데이터 저장"
   ]
  },
  {
   "cell_type": "code",
   "execution_count": 28,
   "metadata": {},
   "outputs": [],
   "source": [
    "with open('sim.npy', 'wb') as f:\n",
    "    np.save(f, cosine_sim)"
   ]
  },
  {
   "cell_type": "code",
   "execution_count": 29,
   "metadata": {},
   "outputs": [
    {
     "name": "stdout",
     "output_type": "stream",
     "text": [
      "[[1.         0.01615743 0.02670028 ... 0.02337501 0.         0.03843376]\n",
      " [0.01615743 1.         0.07685338 ... 0.06754139 0.         0.04159549]\n",
      " [0.02670028 0.07685338 1.         ... 0.02912564 0.04469684 0.09572375]\n",
      " ...\n",
      " [0.02337501 0.06754139 0.02912564 ... 1.         0.0475114  0.08591473]\n",
      " [0.         0.         0.04469684 ... 0.0475114  1.         0.        ]\n",
      " [0.03843376 0.04159549 0.09572375 ... 0.08591473 0.         1.        ]]\n"
     ]
    }
   ],
   "source": [
    "with open('sim.npy', 'rb') as f:\n",
    "    cosine_sim = np.load(f)\n",
    "    print(cosine_sim)"
   ]
  },
  {
   "cell_type": "code",
   "execution_count": 30,
   "metadata": {},
   "outputs": [],
   "source": [
    "indices.to_csv(\"index.csv\")"
   ]
  },
  {
   "cell_type": "code",
   "execution_count": 34,
   "metadata": {},
   "outputs": [],
   "source": [
    "indices = pd.read_csv(\"index.csv\", header = None, index_col = 0, squeeze = True)"
   ]
  },
  {
   "cell_type": "code",
   "execution_count": 37,
   "metadata": {},
   "outputs": [
    {
     "data": {
      "text/plain": [
       "46"
      ]
     },
     "execution_count": 37,
     "metadata": {},
     "output_type": "execute_result"
    }
   ],
   "source": [
    "indices[\"암살\"]"
   ]
  },
  {
   "cell_type": "code",
   "execution_count": null,
   "metadata": {},
   "outputs": [],
   "source": []
  }
 ],
 "metadata": {
  "kernelspec": {
   "display_name": "Python 3",
   "language": "python",
   "name": "python3"
  },
  "language_info": {
   "codemirror_mode": {
    "name": "ipython",
    "version": 3
   },
   "file_extension": ".py",
   "mimetype": "text/x-python",
   "name": "python",
   "nbconvert_exporter": "python",
   "pygments_lexer": "ipython3",
   "version": "3.8.3"
  }
 },
 "nbformat": 4,
 "nbformat_minor": 4
}
