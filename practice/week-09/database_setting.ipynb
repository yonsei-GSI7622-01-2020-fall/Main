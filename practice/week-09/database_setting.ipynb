{
 "cells": [
  {
   "cell_type": "markdown",
   "metadata": {},
   "source": [
    "# Database setting"
   ]
  },
  {
   "cell_type": "code",
   "execution_count": null,
   "metadata": {},
   "outputs": [],
   "source": [
    "import mysql.connector\n",
    "HOST = \"\"\n",
    "USER = \"\"\n",
    "PASSWORD = \"\""
   ]
  },
  {
   "cell_type": "code",
   "execution_count": null,
   "metadata": {},
   "outputs": [],
   "source": [
    "\n",
    "\n",
    "mydb = mysql.connector.connect(\n",
    "  host=HOST,\n",
    "  user=USER,\n",
    "  password=PASSWORD\n",
    ")\n",
    "\n",
    "mycursor = mydb.cursor(dictionary=True)\n",
    "try:\n",
    "    mycursor.execute(\"CREATE DATABASE yonflix\")\n",
    "except:\n",
    "    pass\n",
    "mycursor.close()\n",
    "mydb.close()"
   ]
  },
  {
   "cell_type": "markdown",
   "metadata": {},
   "source": [
    "## 관련 테이블 생성"
   ]
  },
  {
   "cell_type": "code",
   "execution_count": null,
   "metadata": {},
   "outputs": [],
   "source": [
    "mydb = mysql.connector.connect(\n",
    "  host=HOST,\n",
    "  user=USER,\n",
    "  password=PASSWORD,\n",
    "  database=\"yonflix\"\n",
    ")\n",
    "\n",
    "mycursor = mydb.cursor(dictionary=True)\n",
    "\n",
    "mycursor.execute(\"\"\"CREATE TABLE `movie` (\n",
    "  `id`    int(16) auto_increment PRIMARY KEY, \n",
    "  `story` text,\n",
    "  `title` varchar(255) DEFAULT NULL,\n",
    "  `link` varchar(255) DEFAULT NULL,\n",
    "  `image` varchar(255) DEFAULT NULL\n",
    ");\n",
    "\"\"\")\n"
   ]
  },
  {
   "cell_type": "code",
   "execution_count": null,
   "metadata": {},
   "outputs": [],
   "source": [
    "mycursor.execute(\"\"\"CREATE TABLE `user` (\n",
    "  `id`    int(16) auto_increment PRIMARY KEY, \n",
    "  `username` varchar(255) DEFAULT NULL\n",
    ");\n",
    "\"\"\")"
   ]
  },
  {
   "cell_type": "code",
   "execution_count": null,
   "metadata": {},
   "outputs": [],
   "source": [
    "mycursor.execute(\"\"\"CREATE TABLE `like` (\n",
    "  `id`    int(16) auto_increment PRIMARY KEY, \n",
    "  `user_id` int(16),\n",
    "  `movie_id` int(16),\n",
    "   FOREIGN KEY (user_id) REFERENCES user (id),\n",
    "   FOREIGN KEY (movie_id) REFERENCES movie (id)\n",
    ");\n",
    "\"\"\")"
   ]
  },
  {
   "cell_type": "markdown",
   "metadata": {},
   "source": [
    "## 데이터 삽입"
   ]
  },
  {
   "cell_type": "code",
   "execution_count": null,
   "metadata": {},
   "outputs": [],
   "source": [
    "import pandas as pd"
   ]
  },
  {
   "cell_type": "code",
   "execution_count": null,
   "metadata": {},
   "outputs": [],
   "source": [
    "df = pd.read_csv(\"movie_doc.csv\",sep=\"\\t\",index_col=0)"
   ]
  },
  {
   "cell_type": "code",
   "execution_count": null,
   "metadata": {},
   "outputs": [],
   "source": [
    "df"
   ]
  },
  {
   "cell_type": "code",
   "execution_count": null,
   "metadata": {
    "scrolled": false
   },
   "outputs": [],
   "source": [
    "import requests\n",
    "    \n",
    "for row in df.to_dict(orient=\"records\"):\n",
    "    title  = row[\"title\"]\n",
    "    story  = row[\"story\"]\n",
    "    link   = row[\"link\"]\n",
    "    image  = row[\"image\"]\n",
    "    \n",
    "    sql = \"INSERT INTO movie (title, story,link,image) VALUES (%s, %s, %s, %s)\"\n",
    "    val = (title, story, link, image)\n",
    "    mycursor.execute(sql, val)\n",
    "\n",
    "mydb.commit()\n",
    "    "
   ]
  },
  {
   "cell_type": "code",
   "execution_count": null,
   "metadata": {},
   "outputs": [],
   "source": [
    "mycursor.execute(\"SELECT * FROM movie LIMIT 1\")\n",
    "\n",
    "myresult = mycursor.fetchall()\n",
    "\n",
    "for x in myresult:\n",
    "    print(x)\n"
   ]
  },
  {
   "cell_type": "code",
   "execution_count": null,
   "metadata": {},
   "outputs": [],
   "source": [
    "myresult"
   ]
  },
  {
   "cell_type": "markdown",
   "metadata": {},
   "source": [
    "## 가상의 데이터로 확인"
   ]
  },
  {
   "cell_type": "code",
   "execution_count": null,
   "metadata": {},
   "outputs": [],
   "source": [
    "for i in range(5):\n",
    "    username = \"user\"+str(i)\n",
    "    sql = \"INSERT INTO user (username) VALUES (%s)\"\n",
    "    val = (username,)\n",
    "\n",
    "    mycursor.execute(sql, val)\n",
    "mydb.commit()"
   ]
  },
  {
   "cell_type": "code",
   "execution_count": null,
   "metadata": {},
   "outputs": [],
   "source": [
    "mycursor.execute(\"SELECT * FROM user\")\n",
    "\n",
    "myresult = mycursor.fetchall()\n",
    "\n",
    "for x in myresult:\n",
    "    \n",
    "    print(x)\n"
   ]
  },
  {
   "cell_type": "code",
   "execution_count": null,
   "metadata": {},
   "outputs": [],
   "source": [
    "\n",
    "\n",
    "sql = \"INSERT INTO `like` (user_id, movie_id) VALUES (%s,%s);\"\n",
    "val = [(1,1),(1,2),(1,3),(2,1),(3,4)]\n",
    "mycursor.executemany(sql, val)\n",
    "\n",
    "mydb.commit()\n"
   ]
  },
  {
   "cell_type": "code",
   "execution_count": null,
   "metadata": {},
   "outputs": [],
   "source": [
    "mycursor.execute(\"SELECT * FROM `like`\")\n",
    "\n",
    "myresult = mycursor.fetchall()\n",
    "\n",
    "for x in myresult:\n",
    "    \n",
    "    print(x)\n"
   ]
  },
  {
   "cell_type": "code",
   "execution_count": null,
   "metadata": {},
   "outputs": [],
   "source": [
    "user = 2\n",
    "movies = [1,2,3,4]\n",
    "\n",
    "sql = \"SELECT * FROM `like` WHERE `user_id` = %s\"\n",
    "val = (user,)\n",
    "mycursor.execute(sql, val)\n",
    "\n",
    "myresult = mycursor.fetchall()\n",
    "\n",
    "for x in myresult:\n",
    "    \n",
    "    print(x)\n"
   ]
  },
  {
   "cell_type": "code",
   "execution_count": null,
   "metadata": {},
   "outputs": [],
   "source": [
    "sql = \"SELECT * FROM `like` WHERE 1\"\n",
    "mycursor.execute(sql)\n",
    "\n",
    "likes = mycursor.fetchall()\n"
   ]
  },
  {
   "cell_type": "code",
   "execution_count": null,
   "metadata": {},
   "outputs": [],
   "source": [
    "likes"
   ]
  },
  {
   "cell_type": "code",
   "execution_count": null,
   "metadata": {},
   "outputs": [],
   "source": [
    "number_of_users = len(set([x['user_id'] for x in likes]))\n",
    "number_of_movies = len(set([x['movie_id'] for x in likes]))"
   ]
  },
  {
   "cell_type": "code",
   "execution_count": null,
   "metadata": {},
   "outputs": [],
   "source": [
    "import numpy as np\n",
    "data = np.zeros((number_of_users,number_of_movies))"
   ]
  },
  {
   "cell_type": "code",
   "execution_count": null,
   "metadata": {},
   "outputs": [],
   "source": [
    "\n",
    "for like in likes:\n",
    "    data[like['user_id']-1,like['movie_id']-1] = 1"
   ]
  },
  {
   "cell_type": "code",
   "execution_count": null,
   "metadata": {},
   "outputs": [],
   "source": [
    "users = sorted(set([\"user\"+str(x['user_id']) for x in likes]))\n",
    "\n",
    "df = pd.DataFrame(data=data,index=users)\n",
    "df"
   ]
  },
  {
   "cell_type": "code",
   "execution_count": null,
   "metadata": {},
   "outputs": [],
   "source": [
    "from sklearn.metrics.pairwise import cosine_similarity\n",
    "\n",
    "sims = cosine_similarity(df)\n",
    "sims"
   ]
  },
  {
   "cell_type": "code",
   "execution_count": null,
   "metadata": {},
   "outputs": [],
   "source": [
    "user=0\n",
    "np.fill_diagonal(sims, 0)\n",
    "themost_similar_user = np.argmax(sims[user])\n",
    "themost_similar_user"
   ]
  },
  {
   "cell_type": "code",
   "execution_count": null,
   "metadata": {},
   "outputs": [],
   "source": [
    "movie_diff = df.values[themost_similar_user] - df.values[user]\n",
    "if movie_diff.sum() <= 0:\n",
    "    print(\"You have watched all\")\n",
    "else:\n",
    "    for k,v in enumerate(movie_diff):\n",
    "\n",
    "        if v == 1:\n",
    "            movie_id = k\n",
    "            print(\"It's time to watch movie\"+str(movie_id))"
   ]
  },
  {
   "cell_type": "code",
   "execution_count": null,
   "metadata": {},
   "outputs": [],
   "source": []
  }
 ],
 "metadata": {
  "kernelspec": {
   "display_name": "Python 3",
   "language": "python",
   "name": "python3"
  },
  "language_info": {
   "codemirror_mode": {
    "name": "ipython",
    "version": 3
   },
   "file_extension": ".py",
   "mimetype": "text/x-python",
   "name": "python",
   "nbconvert_exporter": "python",
   "pygments_lexer": "ipython3",
   "version": "3.8.3"
  }
 },
 "nbformat": 4,
 "nbformat_minor": 4
}
