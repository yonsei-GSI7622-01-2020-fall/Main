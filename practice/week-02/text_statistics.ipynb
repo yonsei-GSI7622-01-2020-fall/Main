{
 "cells": [
  {
   "cell_type": "markdown",
   "metadata": {},
   "source": [
    "# 비정형 빅데이터 응용과 실습 - Week 01\n",
    "____"
   ]
  },
  {
   "cell_type": "code",
   "execution_count": 3,
   "metadata": {},
   "outputs": [],
   "source": [
    "text = \"\"\"Yeah 다시 돌아왔지\n",
    "        내 이름 레인(RAIN)\n",
    "        스웩을 뽐내 WHOO!\n",
    "        They call it! 왕의 귀환\n",
    "        후배들 바빠지는 중!\n",
    "        신발끈 꽉 매고\n",
    "        스케줄 All Day\n",
    "        내 매니저 전화기는\n",
    "        조용할 일이 없네 WHOO!\n",
    "\n",
    "        15년을 뛰어\n",
    "        모두가 인정해 내 몸의 가치\n",
    "        허나, 자만하지 않지\n",
    "        매 순간 열심히 첫 무대와 같이\n",
    "        타고난 이 멋이 어디가\n",
    "        30 sexy 오빠\n",
    "        또 한번 무대를 적셔\n",
    "        레인이펙트\n",
    "        나비 효과\n",
    "\n",
    "        화려한 조명이 나를 감싸네\n",
    "        시간이 멈추길 기도해\n",
    "        but, I’m not gonna cry yeah\n",
    "        불 꺼진 무대 위 홀로 남아서\n",
    "        떠나간 그대의 목소릴 떠올리네\n",
    "        나 쓰러질 때까지 널 위해 춤을 춰\"\"\""
   ]
  },
  {
   "cell_type": "code",
   "execution_count": 4,
   "metadata": {},
   "outputs": [],
   "source": [
    "def get_text_analysis(text=\"\"):\n",
    "    \n",
    "    if not text:\n",
    "        return {}\n",
    "    \n",
    "    num_of_chars = len(text)\n",
    "    num_of_words = len(text.split())\n",
    "    num_of_lines = len(text.split(\"\\n\"))\n",
    "    \n",
    "    \n",
    "    return {\n",
    "        \"num_of_chars\":num_of_chars,\n",
    "        \"num_of_words\":num_of_words,\n",
    "        \"num_of_lines\":num_of_lines\n",
    "        \n",
    "    }\n",
    "    \n",
    "    \n",
    "    "
   ]
  },
  {
   "cell_type": "code",
   "execution_count": 5,
   "metadata": {},
   "outputs": [
    {
     "data": {
      "text/plain": [
       "{'num_of_chars': 1036, 'num_of_words': 185, 'num_of_lines': 52}"
      ]
     },
     "execution_count": 5,
     "metadata": {},
     "output_type": "execute_result"
    }
   ],
   "source": [
    "get_text_analysis(text)"
   ]
  }
 ],
 "metadata": {
  "kernelspec": {
   "display_name": "Python 3",
   "language": "python",
   "name": "python3"
  },
  "language_info": {
   "codemirror_mode": {
    "name": "ipython",
    "version": 3
   },
   "file_extension": ".py",
   "mimetype": "text/x-python",
   "name": "python",
   "nbconvert_exporter": "python",
   "pygments_lexer": "ipython3",
   "version": "3.7.6"
  }
 },
 "nbformat": 4,
 "nbformat_minor": 4
}
