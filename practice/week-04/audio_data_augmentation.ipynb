{
 "cells": [
  {
   "cell_type": "markdown",
   "metadata": {},
   "source": [
    "# 비정형 빅데이터 응용과 실습 - Week 04\n",
    "오디오 데이터를 조작하여, 추가적인 데이터 생성을 합니다\n",
    "____"
   ]
  },
  {
   "cell_type": "markdown",
   "metadata": {},
   "source": [
    "## 관련 라이브러리 임포트"
   ]
  },
  {
   "cell_type": "code",
   "execution_count": null,
   "metadata": {},
   "outputs": [],
   "source": [
    "import scipy\n",
    "import scipy.io.wavfile\n",
    "from IPython.display import Audio\n",
    "import numpy as np\n",
    "import matplotlib.pyplot as plt\n",
    "import librosa\n",
    "import librosa.display"
   ]
  },
  {
   "cell_type": "markdown",
   "metadata": {},
   "source": [
    "## scipy를 활용한 Audio 데이터 로딩"
   ]
  },
  {
   "cell_type": "markdown",
   "metadata": {},
   "source": [
    "### Wave plot 그리기"
   ]
  },
  {
   "cell_type": "code",
   "execution_count": null,
   "metadata": {},
   "outputs": [],
   "source": [
    "path=\"jungwon-hello.wav\"\n",
    "sample_rate, samples = scipy.io.wavfile.read(path)\n",
    "plt.figure(figsize=(12, 4))\n",
    "librosa.display.waveplot(samples.astype('float'), sr=sample_rate)\n",
    "plt.show()"
   ]
  },
  {
   "cell_type": "markdown",
   "metadata": {},
   "source": [
    "### STFT 그리기"
   ]
  },
  {
   "cell_type": "code",
   "execution_count": null,
   "metadata": {},
   "outputs": [],
   "source": [
    "X = librosa.stft(samples.astype('float'))\n",
    "Xdb = librosa.amplitude_to_db(np.abs(X))\n",
    "plt.figure(figsize=(12, 5))\n",
    "librosa.display.specshow(Xdb, sr=sample_rate, x_axis='time', y_axis='hz')\n",
    "plt.show()"
   ]
  },
  {
   "cell_type": "code",
   "execution_count": null,
   "metadata": {},
   "outputs": [],
   "source": [
    "sample_rate"
   ]
  },
  {
   "cell_type": "code",
   "execution_count": null,
   "metadata": {},
   "outputs": [],
   "source": [
    "samples"
   ]
  },
  {
   "cell_type": "code",
   "execution_count": null,
   "metadata": {},
   "outputs": [],
   "source": [
    "Audio(samples, rate=sample_rate)"
   ]
  },
  {
   "cell_type": "markdown",
   "metadata": {},
   "source": [
    "# 음고(Pitch) 변경하기\n",
    "<img src=\"http://www.ktword.co.kr/img_data/216_1.JPG\"/>\n",
    "\n",
    "- http://www.ktword.co.kr/abbr_view.php?m_temp1=216"
   ]
  },
  {
   "cell_type": "code",
   "execution_count": null,
   "metadata": {},
   "outputs": [],
   "source": [
    "y_pitch = samples.copy()\n",
    "\n",
    "bins_per_octave = 12\n",
    "\n",
    "#TODO\n",
    "pitch_pm = 20\n",
    "\n",
    "pitch_change =  pitch_pm\n",
    "print(\"pitch_change = \",pitch_change)\n",
    "y_pitch = librosa.effects.pitch_shift(y_pitch.astype('float64'), \n",
    "                                      sample_rate, n_steps=pitch_change, \n",
    "                                      bins_per_octave=bins_per_octave)\n",
    "Audio(y_pitch, rate=sample_rate)"
   ]
  },
  {
   "cell_type": "markdown",
   "metadata": {},
   "source": [
    "# 속도 변경하기"
   ]
  },
  {
   "cell_type": "code",
   "execution_count": null,
   "metadata": {},
   "outputs": [],
   "source": [
    "y_speed = samples.copy()\n",
    "speed_change = 2\n",
    "print(\"speed_change = \",speed_change)\n",
    "tmp = librosa.effects.time_stretch(y_speed.astype('float64'), speed_change)\n",
    "print(tmp)\n",
    "minlen = min(y_speed.shape[0], tmp.shape[0])\n",
    "\n",
    "y_speed *= 0 \n",
    "y_speed[0:minlen] = tmp[0:minlen]\n",
    "Audio(y_speed, rate=sample_rate)"
   ]
  },
  {
   "cell_type": "markdown",
   "metadata": {},
   "source": [
    "# 소음 추가하기\n"
   ]
  },
  {
   "cell_type": "code",
   "execution_count": null,
   "metadata": {},
   "outputs": [],
   "source": [
    "y_noise = samples.copy()\n",
    "# you can take any distribution from https://docs.scipy.org/doc/numpy-1.13.0/reference/routines.random.html\n",
    "noise_amp = 100\n",
    "print(noise_amp)\n",
    "y_noise = y_noise.astype('float64') + noise_amp * np.random.normal(size=y_noise.shape[0])\n",
    "Audio(y_noise, rate=sample_rate)"
   ]
  },
  {
   "cell_type": "markdown",
   "metadata": {},
   "source": [
    "# 공백 없애기"
   ]
  },
  {
   "cell_type": "code",
   "execution_count": null,
   "metadata": {},
   "outputs": [],
   "source": [
    "sampling = samples[(samples > 100) | (samples < -100)]\n",
    "print(sampling)\n",
    "shifted_silent = sampling.tolist()#+np.zeros((samples.shape[0]-sampling.shape[0])).tolist()\n",
    "Audio(shifted_silent, rate=sample_rate)\n"
   ]
  },
  {
   "cell_type": "markdown",
   "metadata": {},
   "source": [
    "# Waveplot 비교하기"
   ]
  },
  {
   "cell_type": "code",
   "execution_count": null,
   "metadata": {
    "scrolled": false
   },
   "outputs": [],
   "source": [
    "plt.figure(figsize=(12, 2*9))\n",
    "plt.subplot(5, 1, 1)\n",
    "librosa.display.waveplot(samples.astype('float'), sr=sample_rate,x_axis=None)\n",
    "plt.title('original')\n",
    "\n",
    "plt.subplot(5, 1, 2)\n",
    "librosa.display.waveplot(y_speed.astype('float'), sr=sample_rate,x_axis=None)\n",
    "plt.title('augmented speed only')\n",
    "\n",
    "plt.subplot(5, 1, 3)\n",
    "librosa.display.waveplot(y_pitch, sr=sample_rate,x_axis=None)\n",
    "plt.title('augmented pitch only')\n",
    "\n",
    "\n",
    "plt.subplot(5, 1, 4)\n",
    "librosa.display.waveplot(y_noise, sr=sample_rate,x_axis=None)\n",
    "plt.title('augmented noise')\n",
    "\n",
    "plt.subplot(5, 1, 5)\n",
    "librosa.display.waveplot(np.array(shifted_silent).astype('float'), sr=sample_rate,x_axis=None)\n",
    "plt.title('shift silent to right')\n",
    "\n",
    "plt.show()"
   ]
  },
  {
   "cell_type": "markdown",
   "metadata": {},
   "source": [
    "# Reference\n",
    "- https://www.kaggle.com/huseinzol05/sound-augmentation-librosa"
   ]
  },
  {
   "cell_type": "code",
   "execution_count": null,
   "metadata": {},
   "outputs": [],
   "source": []
  }
 ],
 "metadata": {
  "kernelspec": {
   "display_name": "Python 3",
   "language": "python",
   "name": "python3"
  },
  "language_info": {
   "codemirror_mode": {
    "name": "ipython",
    "version": 3
   },
   "file_extension": ".py",
   "mimetype": "text/x-python",
   "name": "python",
   "nbconvert_exporter": "python",
   "pygments_lexer": "ipython3",
   "version": "3.8.3"
  }
 },
 "nbformat": 4,
 "nbformat_minor": 4
}
